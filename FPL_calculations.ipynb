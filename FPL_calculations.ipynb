{
  "nbformat": 4,
  "nbformat_minor": 0,
  "metadata": {
    "colab": {
      "name": "FPL calculations.ipynb",
      "provenance": [],
      "collapsed_sections": []
    },
    "kernelspec": {
      "name": "python3",
      "display_name": "Python 3"
    },
    "language_info": {
      "name": "python"
    }
  },
  "cells": [
    {
      "cell_type": "code",
      "metadata": {
        "id": "Md8uZhYiKJZZ"
      },
      "source": [
        "# basic imports\n",
        "import json\n",
        "import urllib.request\n",
        "\n",
        "\n"
      ],
      "execution_count": null,
      "outputs": []
    },
    {
      "cell_type": "code",
      "metadata": {
        "id": "_JXlXkuyJtg5"
      },
      "source": [
        "# Get the detailed info about a specific premier league player   \n",
        "def getPlayerPointsAtOneGW(playerID, gameweek):\n",
        "    base = \"https://fantasy.premierleague.com/api/element-summary/\" + str(playerID) + \"/\"\n",
        "    page = urllib.request.urlopen(base)\n",
        "    datagw = json.load(page)\n",
        "    gwPoints = 0\n",
        "    for i in range(len(datagw[\"history\"])): \n",
        "        if gameweek == datagw[\"history\"][i][\"round\"]: # to account for absent gameweek in the json\n",
        "            gwPoints = gwPoints + datagw[\"history\"][i][\"total_points\"] # to account for double gw            \n",
        "    return gwPoints\n",
        "# Get the generic info about PL teams, the players and the game week details\n",
        "base = \"https://fantasy.premierleague.com/api/bootstrap-static/\" \n",
        "page = urllib.request.urlopen(base)\n",
        "dataGeneral = json.load(page)\n",
        "events = dataGeneral[\"events\"]\n",
        "elements = dataGeneral[\"elements\"]\n",
        "def getPlayerName(playerID):\n",
        "    i = 0\n",
        "    while i < len(elements):\n",
        "        if (elements[i][\"id\"] == playerID):\n",
        "            return (elements[i][\"first_name\"] + \" \" + elements[i][\"second_name\"])\n",
        "        i += 1\n",
        "    return \"ID not found\"\n",
        "\n",
        "positions = [\"GK\", \"DEF\", \"MID\", \"ST\"]\n",
        "\n",
        "def getPlayerPosition(playerID):\n",
        "    i = 0\n",
        "    while i < len(elements):\n",
        "        if (elements[i][\"id\"] == playerID):\n",
        "                playersElementType = elements[i][\"element_type\"]\n",
        "                playerPosition = positions[playersElementType - 1]\n",
        "                return playerPosition\n",
        "        i += 1\n",
        "    return \"ID not found\""
      ],
      "execution_count": null,
      "outputs": []
    },
    {
      "cell_type": "code",
      "metadata": {
        "id": "bBh_U5_6JSAZ"
      },
      "source": [
        "################################ Data mining from the FPL API ################################\n",
        "# The only 2 parameters to specify are \"teamID\" and \"lastGameweek\"\n",
        "def calculate(teamID, lastGameweek):\n",
        "#teamID = 3284863\n",
        "#lastGameweek = 1\n",
        "\n",
        "  # Get the detailed info about a given FPL Manager’s Team and a given game week\n",
        "  gameweekData = {}\n",
        "  base = \"https://fantasy.premierleague.com/api/entry/\" + str(teamID) + \"/event/\" + str(lastGameweek) + \"/picks/\"\n",
        "  page = urllib.request.urlopen(base)\n",
        "  data = {\"GW\" + str(lastGameweek) : json.load(page)}\n",
        "  gameweekData.update(data)\n",
        "\n",
        "  # Get the general info about a given FPL Manager’s Team\n",
        "  base = \"https://fantasy.premierleague.com/api/entry/\" + str(teamID) + \"/\"\n",
        "  page = urllib.request.urlopen(base)\n",
        "  dataTeamInfo = json.load(page)\n",
        "\n",
        "  # Get the generic info about PL teams, the players and the game week details\n",
        "  base = \"https://fantasy.premierleague.com/api/bootstrap-static/\" \n",
        "  page = urllib.request.urlopen(base)\n",
        "  dataGeneral = json.load(page)\n",
        "  events = dataGeneral[\"events\"]\n",
        "  elements = dataGeneral[\"elements\"]\n",
        "\n",
        "  \n",
        "  captain = []\n",
        "  captainPoints = []\n",
        "  # Dict with starting team each gw\n",
        "  \n",
        "  dictionary = {}\n",
        "  startingTeam = dictionary\n",
        "\n",
        "  for j in range(0, 15):\n",
        "      if gameweekData[\"GW\" + str(lastGameweek)][\"picks\"][j][\"is_captain\"] == True:\n",
        "          captain.append(getPlayerName(gameweekData[\"GW\" + str(lastGameweek)][\"picks\"][j][\"element\"]))\n",
        "          captainPoints.append(getPlayerPointsAtOneGW(gameweekData[\"GW\" + str(lastGameweek)][\"picks\"][j][\"element\"], lastGameweek))\n",
        "  for n in range(0, 15):\n",
        "      startingTeam[\"player\" + str(n)] = {}\n",
        "      startingTeam[\"player\" + str(n)][\"name\"] = getPlayerName(gameweekData[\"GW\" + str(lastGameweek)][\"picks\"][n][\"element\"])\n",
        "      startingTeam[\"player\" + str(n)][\"position\"] = getPlayerPosition(gameweekData[\"GW\" + str(lastGameweek)][\"picks\"][n][\"element\"])\n",
        "      startingTeam[\"player\" + str(n)][\"points\"] = getPlayerPointsAtOneGW(gameweekData[\"GW\" + str(lastGameweek)][\"picks\"][n][\"element\"], lastGameweek)\n",
        "  return startingTeam, captain\n"
      ],
      "execution_count": null,
      "outputs": []
    },
    {
      "cell_type": "code",
      "metadata": {
        "id": "pRkAGRwm1ttk"
      },
      "source": [
        "aiub = [97405,\t3142387,\t2961475,\t2091320,\t199608,\t1954643,\t2711831,\t1702093,\t234185,\t2348035]\n",
        "bsmrstu = [169676,\t990978,\t2411304,\t3189675,\t1905692,\t2016762,\t1194617,\t2137842,\t63738,\t1558388]\n",
        "bubt = [16564,\t497575,\t497044,\t2383918,\t2382286,\t314272,\t25270,\t2334624,\t129743,\t3400545]\n",
        "buet = [100955,\t75174,\t1203027,\t1237781,\t297018,\t122796,\t97176,\t6570,\t1788009,\t2056830]\n",
        "bup = [2343657,\t2342453,\t1270329,\t406046,\t988941,\t12629,\t6074,\t904115,\t910459,\t2337223]\n",
        "butex = [200676,\t2135872,\t161690,\t1936256,\t2198222,\t2026497,\t815453,\t2407070,\t3137248,\t301937]\n",
        "cu = [1103766,\t113436,\t1554208,\t47041,\t11022,\t16820,\t29678,\t126848,\t174178,\t1263281]\n",
        "cuet = [1157813,\t1237708,\t1276731,\t214034,\t1518909,\t1721832,\t212405,\t111436,\t3387694,\t100453]\n",
        "dmc = [378947, 71342, 2130821, 2130278, 2069057, 2653299, 1878483, 2694761, 123696, 916170]\n",
        "du = [2676420,\t3033259,\t1805600,\t2613443,\t16006,\t13341,\t180873,\t2962195,\t1010017,\t1215076]\n",
        "duet = [1575115,\t1262972,\t64315,\t888620,\t1639056,\t586888,\t329805,\t537525,\t569923,\t1527730]\n",
        "iiuc = [2063449,\t1624042,\t2229399,\t214370,\t1072992,\t223129,\t2227624,\t2228212,\t2232686,\t1589134]\n",
        "iut = [1295833, 3284863, 562983, 2123819, 2021840, 2518012, 707705, 2603437, 1489521, 731066]\n",
        "kuet = [1927871,\t2614976,\t2700325,\t2702743,\t2134296,\t40875,\t2545435,\t2611605,\t750106,\t2434434]\n",
        "mbstu = [1361497,\t2128555,\t145937,\t2031571,\t2128419,\t28443,\t1961143,\t2103027,\t151174,\t2126518]\n",
        "nsu = [358971,\t6689,\t782079,\t1298326,\t2760499,\t1515865,\t355635,\t2616628,\t1964976,\t524464]\n",
        "seu = [191172,\t2811779,\t320586,\t2510616,\t2207757,\t1141943,\t1563935,\t2444903,\t1242072,\t2467131]\n",
        "sust = [1435626,\t2338133,\t1592113,\t2343113,\t38645,\t42519,\t2347278,\t2341357,\t1399259,\t1771824]\n",
        "uiu = [448646,\t11754,\t1768061,\t2856913,\t1644085,\t65105,\t806920,\t1589449,\t555753,\t1776369]\n",
        "ulab = [863274,\t70117,\t2928729,\t2849683,\t2383569,\t2687176,\t2782800,\t2088474,\t2846267,\t2297797]"
      ],
      "execution_count": null,
      "outputs": []
    },
    {
      "cell_type": "code",
      "metadata": {
        "colab": {
          "base_uri": "https://localhost:8080/"
        },
        "id": "AJA68Uuybi5e",
        "outputId": "adf07dfe-a8aa-4c24-f180-261a8adf778d"
      },
      "source": [
        "lastGameweek=1\n",
        "team_dictionary = {}\n",
        "opponent = dmc\n",
        "points = 0\n",
        "for i in iut:\n",
        "  startingTeam,captain = calculate(i,1) \n",
        "  for n in range(0, 11):\n",
        "    player_name = startingTeam[\"player\"+str(n)][\"name\"]\n",
        "    points += startingTeam[\"player\" + str(n)][\"points\"]\n",
        "    if player_name in team_dictionary:\n",
        "      team_dictionary[player_name] += 1\n",
        "    else:\n",
        "      team_dictionary[player_name] = 1\n",
        "  team_dictionary[''.join(captain)]+=1\n",
        "\n",
        "for i in opponent:\n",
        "  startingTeam,captain=calculate(i,1) \n",
        "  for n in range(0, 11):\n",
        "    player_name = startingTeam[\"player\"+str(n)][\"name\"]\n",
        "    points -= startingTeam[\"player\" + str(n)][\"points\"]\n",
        "    if player_name in team_dictionary:\n",
        "      team_dictionary[player_name] -= 1\n",
        "      if team_dictionary[player_name] == 0:\n",
        "        del team_dictionary[player_name]\n",
        "    else:\n",
        "      team_dictionary[player_name] = -1\n",
        "  team_dictionary[''.join(captain)]-=1\n",
        "  if team_dictionary[''.join(captain)] == 0:\n",
        "      del team_dictionary[''.join(captain)]\n",
        "\n",
        "print('Point difference till now = ' + str(points))\n",
        "team_dictionary\n",
        "\n"
      ],
      "execution_count": null,
      "outputs": [
        {
          "output_type": "stream",
          "text": [
            "Point difference till now = 29\n"
          ],
          "name": "stdout"
        },
        {
          "output_type": "execute_result",
          "data": {
            "text/plain": [
              "{'Aaron Cresswell': 1,\n",
              " 'Aaron Wan-Bissaka': -2,\n",
              " 'Benjamin Chilwell': -1,\n",
              " 'Bertrand Traoré': -1,\n",
              " 'Bruno Miguel Borges Fernandes': 3,\n",
              " 'Bukayo Saka': -1,\n",
              " 'Callum Wilson': -2,\n",
              " 'Che Adams': -1,\n",
              " 'Chris Wood': -2,\n",
              " 'Danny Ings': 2,\n",
              " 'Diogo Jota': 2,\n",
              " 'Ederson Santana de Moraes': -1,\n",
              " 'Emiliano Buendía Stati': -1,\n",
              " 'Emiliano Martínez': -4,\n",
              " 'Ezri Konsa Ngoyo': -1,\n",
              " 'Harry Maguire': -1,\n",
              " 'Ilkay Gündogan': -2,\n",
              " 'Ivan Toney': 1,\n",
              " 'Jamie Vardy': -1,\n",
              " 'Jarrod Bowen': 1,\n",
              " 'Jordan Pickford': 2,\n",
              " 'João Pedro Cavaco Cancelo': -2,\n",
              " 'Joël Veltman': -1,\n",
              " 'Kai Havertz': -1,\n",
              " 'Kelechi Iheanacho': -2,\n",
              " 'Kieran Tierney': 1,\n",
              " 'Konstantinos Tsimikas': 2,\n",
              " 'Lucas Digne': -1,\n",
              " 'Luke Shaw': 4,\n",
              " 'Mason Greenwood': -1,\n",
              " 'Matt Targett': 1,\n",
              " 'Matthew Lowton': -1,\n",
              " 'Michail Antonio': 3,\n",
              " 'Mohamed Salah': 4,\n",
              " 'Patrick Bamford': -2,\n",
              " 'Riyad Mahrez': 3,\n",
              " 'Robert Sánchez': 3,\n",
              " 'Rúben Santos Gato Alves Dias': -1,\n",
              " 'Sadio Mané': -4,\n",
              " 'Vladimir Coufal': 4}"
            ]
          },
          "metadata": {
            "tags": []
          },
          "execution_count": 31
        }
      ]
    },
    {
      "cell_type": "code",
      "metadata": {
        "id": "JLJmb5jAAn__"
      },
      "source": [
        ""
      ],
      "execution_count": null,
      "outputs": []
    }
  ]
}